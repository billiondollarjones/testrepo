{
 "cells": [
  {
   "cell_type": "markdown",
   "id": "7dd60d17",
   "metadata": {},
   "source": [
    "# Practice Math w/ code"
   ]
  },
  {
   "cell_type": "code",
   "execution_count": 1,
   "id": "42d1516b",
   "metadata": {},
   "outputs": [
    {
     "data": {
      "text/plain": [
       "6"
      ]
     },
     "execution_count": 1,
     "metadata": {},
     "output_type": "execute_result"
    }
   ],
   "source": [
    "2 * 3 # Multiplication"
   ]
  },
  {
   "cell_type": "code",
   "execution_count": 2,
   "id": "da3fb673",
   "metadata": {},
   "outputs": [
    {
     "data": {
      "text/plain": [
       "3"
      ]
     },
     "execution_count": 2,
     "metadata": {},
     "output_type": "execute_result"
    }
   ],
   "source": [
    "4 - 1 # Subtraction"
   ]
  },
  {
   "cell_type": "code",
   "execution_count": 6,
   "id": "726dc478",
   "metadata": {},
   "outputs": [
    {
     "data": {
      "text/plain": [
       "3"
      ]
     },
     "execution_count": 6,
     "metadata": {},
     "output_type": "execute_result"
    }
   ],
   "source": [
    "1\n",
    "2\n",
    "\n",
    "a = 1 # assigning 1 to the variable called a\n",
    "a + 2 # Adding 2"
   ]
  },
  {
   "cell_type": "code",
   "execution_count": 8,
   "id": "9cb9014f",
   "metadata": {},
   "outputs": [
    {
     "ename": "NameError",
     "evalue": "name 'data' is not defined",
     "output_type": "error",
     "traceback": [
      "\u001b[0;31m---------------------------------------------------------------------------\u001b[0m",
      "\u001b[0;31mNameError\u001b[0m                                 Traceback (most recent call last)",
      "Cell \u001b[0;32mIn[8], line 7\u001b[0m\n\u001b[1;32m      4\u001b[0m \u001b[38;5;241m4\u001b[39m\n\u001b[1;32m      5\u001b[0m \u001b[38;5;241m5\u001b[39m\n\u001b[0;32m----> 7\u001b[0m df \u001b[38;5;241m=\u001b[39m \u001b[43mdata\u001b[49m\u001b[38;5;241m.\u001b[39mframe(Emp_Name \u001b[38;5;241m=\u001b[39m c(\u001b[38;5;124m\"\u001b[39m\u001b[38;5;124mJai\u001b[39m\u001b[38;5;124m\"\u001b[39m, \u001b[38;5;124m\"\u001b[39m\u001b[38;5;124mDavid\u001b[39m\u001b[38;5;124m\"\u001b[39m, \u001b[38;5;124m\"\u001b[39m\u001b[38;5;124mMichael\u001b[39m\u001b[38;5;124m\"\u001b[39m),\n\u001b[1;32m      8\u001b[0m                Job_role \u001b[38;5;241m=\u001b[39m c(\u001b[38;5;124m\"\u001b[39m\u001b[38;5;124mmanager\u001b[39m\u001b[38;5;124m\"\u001b[39m, \u001b[38;5;124m\"\u001b[39m\u001b[38;5;124mTeam Lead\u001b[39m\u001b[38;5;124m\"\u001b[39m, \u001b[38;5;124m\"\u001b[39m\u001b[38;5;124mDeveloper\u001b[39m\u001b[38;5;124m\"\u001b[39m )\n\u001b[1;32m      9\u001b[0m                )\n\u001b[1;32m     12\u001b[0m \u001b[38;5;28mprint\u001b[39m(df)\n",
      "\u001b[0;31mNameError\u001b[0m: name 'data' is not defined"
     ]
    }
   ],
   "source": [
    "1\n",
    "2\n",
    "3\n",
    "4\n",
    "5\n",
    "\n",
    "df = data.frame(Emp_Name = c(\"Jai\", \"David\", \"Michael\"),\n",
    "               Job_role = c(\"manager\", \"Team Lead\", \"Developer\" )\n",
    "               )\n",
    "\n",
    "\n",
    "print(df)"
   ]
  },
  {
   "cell_type": "code",
   "execution_count": null,
   "id": "a17399c5",
   "metadata": {},
   "outputs": [],
   "source": []
  }
 ],
 "metadata": {
  "kernelspec": {
   "display_name": "Python 3 (ipykernel)",
   "language": "python",
   "name": "python3"
  },
  "language_info": {
   "codemirror_mode": {
    "name": "ipython",
    "version": 3
   },
   "file_extension": ".py",
   "mimetype": "text/x-python",
   "name": "python",
   "nbconvert_exporter": "python",
   "pygments_lexer": "ipython3",
   "version": "3.8.2"
  }
 },
 "nbformat": 4,
 "nbformat_minor": 5
}
